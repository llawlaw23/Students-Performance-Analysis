{
 "cells": [
  {
   "cell_type": "code",
   "execution_count": null,
   "metadata": {
    "id": "z_X5sYg3hMoU"
   },
   "outputs": [],
   "source": [
    "# importing the necessary libraries\n",
    "import pandas as pd\n",
    "import numpy as np\n",
    "import matplotlib.pyplot as plt\n",
    "import seaborn as sns"
   ]
  },
  {
   "cell_type": "code",
   "execution_count": null,
   "metadata": {
    "colab": {
     "base_uri": "https://localhost:8080/",
     "height": 223
    },
    "id": "_clGbEsbktrS",
    "outputId": "2b93ad2f-56d3-453e-bf33-24083387f31c"
   },
   "outputs": [],
   "source": [
    "# reading the csv file\n",
    "df = pd.read_csv(\"StudentsPerformance.csv\")\n",
    "df.sample(5)"
   ]
  },
  {
   "cell_type": "code",
   "execution_count": null,
   "metadata": {
    "colab": {
     "base_uri": "https://localhost:8080/",
     "height": 300
    },
    "id": "1lj5VXysk6Qd",
    "outputId": "d0092dad-53d7-40a4-9110-7621f5ace3b2"
   },
   "outputs": [],
   "source": [
    "df.describe()"
   ]
  },
  {
   "cell_type": "code",
   "execution_count": null,
   "metadata": {
    "colab": {
     "base_uri": "https://localhost:8080/"
    },
    "id": "DHlUDGUJlFLt",
    "outputId": "1c5e6840-f402-4eb1-97f5-44d9a43e9f3f"
   },
   "outputs": [],
   "source": [
    "df.info()"
   ]
  },
  {
   "cell_type": "code",
   "execution_count": null,
   "metadata": {
    "colab": {
     "base_uri": "https://localhost:8080/",
     "height": 335
    },
    "id": "MvgGyE1XlJip",
    "outputId": "f5e0dc68-4f65-4028-9a32-26a45815caf0"
   },
   "outputs": [],
   "source": [
    "df.isnull().sum()"
   ]
  },
  {
   "cell_type": "code",
   "execution_count": null,
   "metadata": {
    "colab": {
     "base_uri": "https://localhost:8080/",
     "height": 335
    },
    "id": "PVYjpr5XoAJQ",
    "outputId": "2084ccde-fbe2-4c60-da2c-84b997294482"
   },
   "outputs": [],
   "source": [
    "df.nunique()"
   ]
  },
  {
   "cell_type": "code",
   "execution_count": null,
   "metadata": {
    "colab": {
     "base_uri": "https://localhost:8080/",
     "height": 178
    },
    "id": "WF79ROoWlOUe",
    "outputId": "49222fc2-d61b-402c-ab52-f867065892b4"
   },
   "outputs": [],
   "source": [
    "df[\"gender\"].value_counts()"
   ]
  },
  {
   "cell_type": "code",
   "execution_count": null,
   "metadata": {
    "colab": {
     "base_uri": "https://localhost:8080/",
     "height": 272
    },
    "id": "zrrqnugblWSb",
    "outputId": "64fac19f-d896-4b87-ddd2-b1e9a21f1d9a"
   },
   "outputs": [],
   "source": [
    "df[\"race/ethnicity\"].value_counts()"
   ]
  },
  {
   "cell_type": "code",
   "execution_count": null,
   "metadata": {
    "colab": {
     "base_uri": "https://localhost:8080/",
     "height": 178
    },
    "id": "9R4o-LwqlpMP",
    "outputId": "58c39428-c7b0-4b06-962d-0f0e891dee9d"
   },
   "outputs": [],
   "source": [
    "df[\"lunch\"].value_counts()"
   ]
  },
  {
   "cell_type": "code",
   "execution_count": null,
   "metadata": {
    "colab": {
     "base_uri": "https://localhost:8080/",
     "height": 178
    },
    "id": "pOhjZOSUl5JX",
    "outputId": "cc747738-686a-4c08-8b8a-aa7cc82833bd"
   },
   "outputs": [],
   "source": [
    "df[\"test preparation course\"].value_counts()"
   ]
  },
  {
   "cell_type": "code",
   "execution_count": null,
   "metadata": {
    "colab": {
     "base_uri": "https://localhost:8080/",
     "height": 303
    },
    "id": "cmpwpN-hmCb0",
    "outputId": "0966a9b9-cbc4-4b84-b5f7-7099f24c928a"
   },
   "outputs": [],
   "source": [
    "df[\"parental level of education\"].value_counts()"
   ]
  },
  {
   "cell_type": "code",
   "execution_count": null,
   "metadata": {
    "colab": {
     "base_uri": "https://localhost:8080/",
     "height": 429
    },
    "id": "vWdscuhBnHh0",
    "outputId": "94ca6742-906c-45b6-a491-3abb300ead45"
   },
   "outputs": [],
   "source": [
    "df.groupby(\"race/ethnicity\")[\"gender\"].value_counts()"
   ]
  },
  {
   "cell_type": "code",
   "execution_count": null,
   "metadata": {
    "colab": {
     "base_uri": "https://localhost:8080/",
     "height": 241
    },
    "id": "P402b6VjoNe9",
    "outputId": "80dd8910-abb6-4179-b164-0be1c4d22116"
   },
   "outputs": [],
   "source": [
    "df.head()"
   ]
  },
  {
   "cell_type": "code",
   "execution_count": null,
   "metadata": {
    "colab": {
     "base_uri": "https://localhost:8080/",
     "height": 241
    },
    "id": "o7xZDykenyIJ",
    "outputId": "b930ce6f-78b0-43c3-e401-1c7148d8d356"
   },
   "outputs": [],
   "source": [
    "df.groupby(\"lunch\")[\"gender\"].value_counts()"
   ]
  },
  {
   "cell_type": "code",
   "execution_count": null,
   "metadata": {
    "colab": {
     "base_uri": "https://localhost:8080/",
     "height": 1000
    },
    "id": "YuqO8W5Sodqq",
    "outputId": "1ce6178e-cf0d-4b72-edd7-ea2ef724077b"
   },
   "outputs": [],
   "source": [
    "df.groupby(\"race/ethnicity\")[\"parental level of education\"].value_counts()"
   ]
  },
  {
   "cell_type": "code",
   "execution_count": null,
   "metadata": {
    "colab": {
     "base_uri": "https://localhost:8080/",
     "height": 241
    },
    "id": "q9j3OAZqpGVM",
    "outputId": "061d6064-8a8a-45cd-d88b-7728dd677a2e"
   },
   "outputs": [],
   "source": [
    "df.groupby(\"gender\")[\"test preparation course\"].value_counts()"
   ]
  },
  {
   "cell_type": "code",
   "execution_count": null,
   "metadata": {
    "colab": {
     "base_uri": "https://localhost:8080/",
     "height": 335
    },
    "id": "FHlFPlqqykYy",
    "outputId": "445d9755-6263-42d1-b2d1-31215c197d04"
   },
   "outputs": [],
   "source": [
    "df[\"math score\"].describe()"
   ]
  },
  {
   "cell_type": "code",
   "execution_count": null,
   "metadata": {
    "colab": {
     "base_uri": "https://localhost:8080/",
     "height": 272
    },
    "id": "b090GYxmpiUq",
    "outputId": "69935985-76fc-41fb-c5af-d2d622500496"
   },
   "outputs": [],
   "source": [
    "df[\"math score\"].value_counts().head()"
   ]
  },
  {
   "cell_type": "code",
   "execution_count": null,
   "metadata": {
    "colab": {
     "base_uri": "https://localhost:8080/"
    },
    "id": "VINdya1ImJ0v",
    "outputId": "5fbcd79c-c5d7-4904-b7a9-f636fb302ad1"
   },
   "outputs": [],
   "source": [
    "df[\"math score\"].max()"
   ]
  },
  {
   "cell_type": "code",
   "execution_count": null,
   "metadata": {
    "colab": {
     "base_uri": "https://localhost:8080/"
    },
    "id": "Y9KfyN-5mUoE",
    "outputId": "b431b32d-a760-483a-ccec-3cc3765f5a1e"
   },
   "outputs": [],
   "source": [
    "df[\"math score\"].min()"
   ]
  },
  {
   "cell_type": "code",
   "execution_count": null,
   "metadata": {
    "colab": {
     "base_uri": "https://localhost:8080/"
    },
    "id": "mrDiCQOsqLCS",
    "outputId": "fade859e-dfe4-44ad-b823-721cc6dbc602"
   },
   "outputs": [],
   "source": [
    "df[df[\"math score\"] == 100] [\"math score\"].count()"
   ]
  },
  {
   "cell_type": "code",
   "execution_count": null,
   "metadata": {
    "colab": {
     "base_uri": "https://localhost:8080/",
     "height": 303
    },
    "id": "Jbk_l6g2qXjO",
    "outputId": "f1aa2687-5992-40ef-df42-a4c0c49d6dd2"
   },
   "outputs": [],
   "source": [
    "df[df[\"math score\"] == 100]"
   ]
  },
  {
   "cell_type": "code",
   "execution_count": null,
   "metadata": {
    "colab": {
     "base_uri": "https://localhost:8080/"
    },
    "id": "xs-IeeiPyR0D",
    "outputId": "deea6c22-f0f9-4491-f135-d6dc75268a8f"
   },
   "outputs": [],
   "source": [
    "df[df[\"math score\"] == 0][\"math score\"].count()"
   ]
  },
  {
   "cell_type": "code",
   "execution_count": null,
   "metadata": {
    "colab": {
     "base_uri": "https://localhost:8080/"
    },
    "id": "JGuoETRpmZ1J",
    "outputId": "2b830d6b-d04f-422f-cc1d-6b071e8786ef"
   },
   "outputs": [],
   "source": [
    "df[df[\"math score\"] < 50] [\"math score\"].count()"
   ]
  },
  {
   "cell_type": "code",
   "execution_count": null,
   "metadata": {
    "colab": {
     "base_uri": "https://localhost:8080/",
     "height": 178
    },
    "id": "q2dPOvJerLbV",
    "outputId": "532aea04-7cde-4da1-a666-5b80a433b031"
   },
   "outputs": [],
   "source": [
    "math_score_less_than_50 = df[df[\"math score\"] < 50]\n",
    "math_score_less_than_50.groupby(\"gender\")[\"math score\"].count().sort_values(ascending=False)"
   ]
  },
  {
   "cell_type": "code",
   "execution_count": null,
   "metadata": {
    "colab": {
     "base_uri": "https://localhost:8080/",
     "height": 272
    },
    "id": "YWmLQxMXrxUb",
    "outputId": "7c0bb61a-6b8e-4b00-c6d8-ae454939edfd"
   },
   "outputs": [],
   "source": [
    "math_score_less_than_50.groupby(\"race/ethnicity\")[\"math score\"].count().sort_values(ascending=False)"
   ]
  },
  {
   "cell_type": "code",
   "execution_count": null,
   "metadata": {
    "colab": {
     "base_uri": "https://localhost:8080/",
     "height": 303
    },
    "id": "VyY72lCc0X0g",
    "outputId": "e0c471ee-3c55-4d62-e2e9-dde04a9f9f49"
   },
   "outputs": [],
   "source": [
    "math_score_less_than_50.groupby(\"parental level of education\")[\"math score\"].count().sort_values(ascending=False)"
   ]
  },
  {
   "cell_type": "code",
   "execution_count": null,
   "metadata": {
    "colab": {
     "base_uri": "https://localhost:8080/"
    },
    "id": "JhsRUm9amxkI",
    "outputId": "385a979c-2585-493d-ef69-860eb7cbfe30"
   },
   "outputs": [],
   "source": [
    "df[df[\"math score\"] > 50] [\"math score\"].count()"
   ]
  },
  {
   "cell_type": "code",
   "execution_count": null,
   "metadata": {
    "colab": {
     "base_uri": "https://localhost:8080/",
     "height": 178
    },
    "id": "BR0ZFyOwsakh",
    "outputId": "c301f4bc-d285-4b7a-d752-352edacbac46"
   },
   "outputs": [],
   "source": [
    "math_score_greater_than_50 = df[df[\"math score\"] > 50]\n",
    "math_score_greater_than_50.groupby(\"gender\")[\"math score\"].count().sort_values(ascending=False)"
   ]
  },
  {
   "cell_type": "code",
   "execution_count": null,
   "metadata": {
    "colab": {
     "base_uri": "https://localhost:8080/",
     "height": 272
    },
    "id": "EmUVC8mXsjVi",
    "outputId": "728a960c-ebdf-4b98-f749-b20e9ad8d274"
   },
   "outputs": [],
   "source": [
    "math_score_greater_than_50.groupby(\"race/ethnicity\")[\"math score\"].count().sort_values(ascending=False)"
   ]
  },
  {
   "cell_type": "code",
   "execution_count": null,
   "metadata": {
    "colab": {
     "base_uri": "https://localhost:8080/",
     "height": 303
    },
    "id": "in59Oznm0TCT",
    "outputId": "0846968d-9a68-456c-af9f-d373a0a94f86"
   },
   "outputs": [],
   "source": [
    "math_score_greater_than_50.groupby(\"parental level of education\")[\"math score\"].count().sort_values(ascending=False)"
   ]
  },
  {
   "cell_type": "code",
   "execution_count": null,
   "metadata": {
    "colab": {
     "base_uri": "https://localhost:8080/",
     "height": 335
    },
    "id": "omxt2BE8ywCG",
    "outputId": "bb010052-1bc8-4772-dcb0-7f2a8c64b0d7"
   },
   "outputs": [],
   "source": [
    "df[\"reading score\"].describe()"
   ]
  },
  {
   "cell_type": "code",
   "execution_count": null,
   "metadata": {
    "colab": {
     "base_uri": "https://localhost:8080/",
     "height": 272
    },
    "id": "n_s4RCyoqkKJ",
    "outputId": "85c3e6c6-5d20-4882-8b78-02439ead7d00"
   },
   "outputs": [],
   "source": [
    "df[\"reading score\"].value_counts().head()"
   ]
  },
  {
   "cell_type": "code",
   "execution_count": null,
   "metadata": {
    "colab": {
     "base_uri": "https://localhost:8080/"
    },
    "id": "TP_kqDOetKfo",
    "outputId": "edc0f655-189c-48fa-a0a2-8c79ec3796fb"
   },
   "outputs": [],
   "source": [
    "df[\"reading score\"].max()"
   ]
  },
  {
   "cell_type": "code",
   "execution_count": null,
   "metadata": {
    "colab": {
     "base_uri": "https://localhost:8080/"
    },
    "id": "FvvseTIGtYlS",
    "outputId": "999e32f2-833c-40c3-ae5f-fad4e3cac1f0"
   },
   "outputs": [],
   "source": [
    "df[\"reading score\"].min()"
   ]
  },
  {
   "cell_type": "code",
   "execution_count": null,
   "metadata": {
    "colab": {
     "base_uri": "https://localhost:8080/"
    },
    "id": "IFUZjuLyvUZK",
    "outputId": "bfe46c0d-947f-4078-be48-03942c3c0d77"
   },
   "outputs": [],
   "source": [
    "df[df[\"reading score\"] == 100] [\"reading score\"].count()"
   ]
  },
  {
   "cell_type": "code",
   "execution_count": null,
   "metadata": {
    "colab": {
     "base_uri": "https://localhost:8080/",
     "height": 617
    },
    "id": "qBdKO_F3xnal",
    "outputId": "3c9a5a85-c4f2-4014-fca5-b25d711b59a9"
   },
   "outputs": [],
   "source": [
    "df[df[\"reading score\"] == 100]"
   ]
  },
  {
   "cell_type": "code",
   "execution_count": null,
   "metadata": {
    "colab": {
     "base_uri": "https://localhost:8080/"
    },
    "id": "TsiPV8exxrVk",
    "outputId": "27122165-0c3e-4e68-eaf7-c5b9564f8226"
   },
   "outputs": [],
   "source": [
    "df[df[\"reading score\"] == 0] [\"reading score\"].count()"
   ]
  },
  {
   "cell_type": "code",
   "execution_count": null,
   "metadata": {
    "colab": {
     "base_uri": "https://localhost:8080/"
    },
    "id": "lEc84wGttZ0t",
    "outputId": "75ae25a2-7c47-4679-def1-ccf8c0ffacca"
   },
   "outputs": [],
   "source": [
    "df[df[\"reading score\"] < 50] [\"reading score\"].count()"
   ]
  },
  {
   "cell_type": "code",
   "execution_count": null,
   "metadata": {
    "colab": {
     "base_uri": "https://localhost:8080/",
     "height": 458
    },
    "id": "jELvNwZJtqMU",
    "outputId": "a1cc01da-9bdf-41eb-b14f-2e099e8faa7f"
   },
   "outputs": [],
   "source": [
    "df[df[\"reading score\"] < 50]"
   ]
  },
  {
   "cell_type": "code",
   "execution_count": null,
   "metadata": {
    "colab": {
     "base_uri": "https://localhost:8080/",
     "height": 178
    },
    "id": "MTAhy1b3tthG",
    "outputId": "9dcc385c-14a7-4007-dd9f-5e54e1d4d0d0"
   },
   "outputs": [],
   "source": [
    "reading_score_less_than_50 = df[df[\"reading score\"] < 50]\n",
    "reading_score_less_than_50.groupby(\"gender\")[\"reading score\"].count().sort_values(ascending = False)"
   ]
  },
  {
   "cell_type": "code",
   "execution_count": null,
   "metadata": {
    "colab": {
     "base_uri": "https://localhost:8080/",
     "height": 272
    },
    "id": "NJ6NSfMEuIND",
    "outputId": "dcb7727a-4bae-4306-cbbd-ad4a521746d4"
   },
   "outputs": [],
   "source": [
    "reading_score_less_than_50.groupby(\"race/ethnicity\")[\"reading score\"].count().sort_values(ascending = False)"
   ]
  },
  {
   "cell_type": "code",
   "execution_count": null,
   "metadata": {
    "colab": {
     "base_uri": "https://localhost:8080/",
     "height": 303
    },
    "id": "X49vdePLzS2g",
    "outputId": "782e4897-d38d-4160-f44d-80b449188560"
   },
   "outputs": [],
   "source": [
    "reading_score_less_than_50.groupby(\"parental level of education\")[\"reading score\"].count().sort_values(ascending = False)"
   ]
  },
  {
   "cell_type": "code",
   "execution_count": null,
   "metadata": {
    "colab": {
     "base_uri": "https://localhost:8080/"
    },
    "id": "6KmRXhk3uWRN",
    "outputId": "7670423a-f99f-4773-9fee-50a853619394"
   },
   "outputs": [],
   "source": [
    "df[df[\"reading score\"] > 50] [\"reading score\"].count()"
   ]
  },
  {
   "cell_type": "code",
   "execution_count": null,
   "metadata": {
    "colab": {
     "base_uri": "https://localhost:8080/",
     "height": 458
    },
    "id": "SAZy9SPNudjN",
    "outputId": "9626841b-35d2-4f71-a637-cc3a5029d2c3"
   },
   "outputs": [],
   "source": [
    "df[df[\"reading score\"] > 50]"
   ]
  },
  {
   "cell_type": "code",
   "execution_count": null,
   "metadata": {
    "colab": {
     "base_uri": "https://localhost:8080/",
     "height": 178
    },
    "id": "VhHNSd-ouhYT",
    "outputId": "5016bb6c-2cb9-42f6-ff5a-31039824fa36"
   },
   "outputs": [],
   "source": [
    "reading_score_greater_than_50 = df[df[\"reading score\"] > 50]\n",
    "reading_score_greater_than_50.groupby(\"gender\")[\"reading score\"].count().sort_values(ascending = False)"
   ]
  },
  {
   "cell_type": "code",
   "execution_count": null,
   "metadata": {
    "colab": {
     "base_uri": "https://localhost:8080/",
     "height": 272
    },
    "id": "hssVtse2vCV0",
    "outputId": "ab008315-e126-46a9-e3b6-ffe679d3e8b3"
   },
   "outputs": [],
   "source": [
    "reading_score_greater_than_50.groupby(\"race/ethnicity\")[\"reading score\"].count().sort_values(ascending = False)"
   ]
  },
  {
   "cell_type": "code",
   "execution_count": null,
   "metadata": {
    "colab": {
     "base_uri": "https://localhost:8080/",
     "height": 303
    },
    "id": "8hXXUrgDzBkU",
    "outputId": "c667d3c5-1751-4cad-b7e7-94965db7c911"
   },
   "outputs": [],
   "source": [
    "reading_score_greater_than_50.groupby(\"parental level of education\")[\"reading score\"].count().sort_values(ascending = False)"
   ]
  },
  {
   "cell_type": "code",
   "execution_count": null,
   "metadata": {
    "colab": {
     "base_uri": "https://localhost:8080/",
     "height": 335
    },
    "id": "SVvvkFOOy0In",
    "outputId": "c5b7841c-bf3a-4256-8a44-c3fcc85e6c1c"
   },
   "outputs": [],
   "source": [
    "df[\"writing score\"].describe()"
   ]
  },
  {
   "cell_type": "code",
   "execution_count": null,
   "metadata": {
    "colab": {
     "base_uri": "https://localhost:8080/",
     "height": 272
    },
    "id": "Bk2DS3zIvG2i",
    "outputId": "bc8ca407-391a-45d0-c167-b779c08fb9a4"
   },
   "outputs": [],
   "source": [
    "df[\"writing score\"].value_counts().head()"
   ]
  },
  {
   "cell_type": "code",
   "execution_count": null,
   "metadata": {
    "colab": {
     "base_uri": "https://localhost:8080/"
    },
    "id": "IsQdMpKavKts",
    "outputId": "edfea8cc-4316-4f3f-9225-314d410e57d5"
   },
   "outputs": [],
   "source": [
    "df[\"writing score\"].max()"
   ]
  },
  {
   "cell_type": "code",
   "execution_count": null,
   "metadata": {
    "colab": {
     "base_uri": "https://localhost:8080/"
    },
    "id": "xGLD79nEvMkP",
    "outputId": "8baa8618-f835-427b-d94e-2bf3fb3e52f1"
   },
   "outputs": [],
   "source": [
    "df[\"writing score\"].min()"
   ]
  },
  {
   "cell_type": "code",
   "execution_count": null,
   "metadata": {
    "colab": {
     "base_uri": "https://localhost:8080/"
    },
    "id": "Ytzv_iwEvPXa",
    "outputId": "521989fb-dacc-4aab-9a16-9a4513c69a16"
   },
   "outputs": [],
   "source": [
    "df[df[\"writing score\"] == 100] [\"writing score\"].count()"
   ]
  },
  {
   "cell_type": "code",
   "execution_count": null,
   "metadata": {
    "colab": {
     "base_uri": "https://localhost:8080/",
     "height": 523
    },
    "id": "YSXvuiKuxJpb",
    "outputId": "f3fa60a2-59c3-442f-9fde-96e0482497e4"
   },
   "outputs": [],
   "source": [
    "df[df[\"writing score\"] == 100]"
   ]
  },
  {
   "cell_type": "code",
   "execution_count": null,
   "metadata": {
    "colab": {
     "base_uri": "https://localhost:8080/"
    },
    "id": "E8R251hxxX18",
    "outputId": "b3b05419-1c45-48d3-b252-c011c0f1cd5e"
   },
   "outputs": [],
   "source": [
    "df[df[\"writing score\"] == 0] [\"writing score\"].count()"
   ]
  },
  {
   "cell_type": "code",
   "execution_count": null,
   "metadata": {
    "colab": {
     "base_uri": "https://localhost:8080/"
    },
    "id": "KDTaMPuzvyUB",
    "outputId": "c418a5f3-ae39-4cac-f179-e35113642e2e"
   },
   "outputs": [],
   "source": [
    "df[df[\"writing score\"] < 50] [\"writing score\"].count()"
   ]
  },
  {
   "cell_type": "code",
   "execution_count": null,
   "metadata": {
    "colab": {
     "base_uri": "https://localhost:8080/",
     "height": 458
    },
    "id": "XD5NSflmv7eJ",
    "outputId": "308c2aa0-94f5-40e6-d9b8-4b21a6955200"
   },
   "outputs": [],
   "source": [
    "df[df[\"writing score\"] < 50]"
   ]
  },
  {
   "cell_type": "code",
   "execution_count": null,
   "metadata": {
    "colab": {
     "base_uri": "https://localhost:8080/",
     "height": 178
    },
    "id": "0JNdToPawAf4",
    "outputId": "fac47c06-e8b1-46d0-8468-c72764427110"
   },
   "outputs": [],
   "source": [
    "writing_score_less_than_50 = df[df[\"writing score\"] < 50]\n",
    "writing_score_less_than_50.groupby(\"gender\")[\"writing score\"].count().sort_values(ascending = False)"
   ]
  },
  {
   "cell_type": "code",
   "execution_count": null,
   "metadata": {
    "colab": {
     "base_uri": "https://localhost:8080/",
     "height": 272
    },
    "id": "zUzd8WbSwAjW",
    "outputId": "e53f8c95-8d53-4e78-99db-684563f162df"
   },
   "outputs": [],
   "source": [
    "writing_score_less_than_50.groupby(\"race/ethnicity\")[\"writing score\"].count().sort_values(ascending = False)"
   ]
  },
  {
   "cell_type": "code",
   "execution_count": null,
   "metadata": {
    "colab": {
     "base_uri": "https://localhost:8080/",
     "height": 303
    },
    "id": "Aw0CoSoczivL",
    "outputId": "719eb525-1c93-445c-8caa-a2d081d52ad2"
   },
   "outputs": [],
   "source": [
    "writing_score_less_than_50.groupby(\"parental level of education\")[\"writing score\"].count().sort_values(ascending = False)"
   ]
  },
  {
   "cell_type": "code",
   "execution_count": null,
   "metadata": {
    "colab": {
     "base_uri": "https://localhost:8080/"
    },
    "id": "pZx-VAOqv4k8",
    "outputId": "d3afc9ec-4055-41cd-cf70-909e46a3af7d"
   },
   "outputs": [],
   "source": [
    "df[df[\"writing score\"] > 50] [\"writing score\"].count()"
   ]
  },
  {
   "cell_type": "code",
   "execution_count": null,
   "metadata": {
    "colab": {
     "base_uri": "https://localhost:8080/",
     "height": 458
    },
    "id": "V26Qj_wOwphq",
    "outputId": "4fa15c3e-d26a-47a9-9ead-271189fe7487"
   },
   "outputs": [],
   "source": [
    "df[df[\"writing score\"] > 50]"
   ]
  },
  {
   "cell_type": "code",
   "execution_count": null,
   "metadata": {
    "colab": {
     "base_uri": "https://localhost:8080/",
     "height": 178
    },
    "id": "gmlcj4wPwprn",
    "outputId": "b847346d-e068-4e72-ade5-22a813ce0cf0"
   },
   "outputs": [],
   "source": [
    "writing_score_greater_than_50 = df[df[\"writing score\"] > 50]\n",
    "writing_score_greater_than_50.groupby(\"gender\")[\"writing score\"].count().sort_values(ascending = False)"
   ]
  },
  {
   "cell_type": "code",
   "execution_count": null,
   "metadata": {
    "colab": {
     "base_uri": "https://localhost:8080/",
     "height": 272
    },
    "id": "kAJZep0rwqfv",
    "outputId": "91a04807-48fc-4081-d462-a2e2e56c6e39"
   },
   "outputs": [],
   "source": [
    "writing_score_greater_than_50.groupby(\"race/ethnicity\")[\"writing score\"].count().sort_values(ascending = False)"
   ]
  },
  {
   "cell_type": "code",
   "execution_count": null,
   "metadata": {
    "colab": {
     "base_uri": "https://localhost:8080/",
     "height": 303
    },
    "id": "rAtKHhhoz3FO",
    "outputId": "f92a42eb-fab9-43c4-dd75-d669d4d874a7"
   },
   "outputs": [],
   "source": [
    "writing_score_greater_than_50.groupby(\"parental level of education\")[\"writing score\"].count().sort_values(ascending = False)"
   ]
  },
  {
   "cell_type": "code",
   "execution_count": null,
   "metadata": {
    "id": "Hv15odtow9ld"
   },
   "outputs": [],
   "source": []
  }
 ],
 "metadata": {
  "colab": {
   "provenance": []
  },
  "kernelspec": {
   "display_name": "Python 3 (ipykernel)",
   "language": "python",
   "name": "python3"
  },
  "language_info": {
   "codemirror_mode": {
    "name": "ipython",
    "version": 3
   },
   "file_extension": ".py",
   "mimetype": "text/x-python",
   "name": "python",
   "nbconvert_exporter": "python",
   "pygments_lexer": "ipython3",
   "version": "3.11.5"
  }
 },
 "nbformat": 4,
 "nbformat_minor": 4
}
