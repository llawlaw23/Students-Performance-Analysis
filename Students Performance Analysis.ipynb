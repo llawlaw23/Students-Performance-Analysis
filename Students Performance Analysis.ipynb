{
 "cells": [
  {
   "cell_type": "code",
   "execution_count": 1,
   "metadata": {
    "id": "z_X5sYg3hMoU"
   },
   "outputs": [],
   "source": [
    "# importing the necessary libraries\n",
    "import pandas as pd\n",
    "import numpy as np\n",
    "import matplotlib.pyplot as plt\n",
    "import seaborn as sns"
   ]
  },
  {
   "cell_type": "code",
   "execution_count": 2,
   "metadata": {
    "colab": {
     "base_uri": "https://localhost:8080/",
     "height": 223
    },
    "id": "_clGbEsbktrS",
    "outputId": "2b93ad2f-56d3-453e-bf33-24083387f31c"
   },
   "outputs": [
    {
     "data": {
      "text/html": [
       "<div>\n",
       "<style scoped>\n",
       "    .dataframe tbody tr th:only-of-type {\n",
       "        vertical-align: middle;\n",
       "    }\n",
       "\n",
       "    .dataframe tbody tr th {\n",
       "        vertical-align: top;\n",
       "    }\n",
       "\n",
       "    .dataframe thead th {\n",
       "        text-align: right;\n",
       "    }\n",
       "</style>\n",
       "<table border=\"1\" class=\"dataframe\">\n",
       "  <thead>\n",
       "    <tr style=\"text-align: right;\">\n",
       "      <th></th>\n",
       "      <th>gender</th>\n",
       "      <th>race/ethnicity</th>\n",
       "      <th>parental level of education</th>\n",
       "      <th>lunch</th>\n",
       "      <th>test preparation course</th>\n",
       "      <th>math score</th>\n",
       "      <th>reading score</th>\n",
       "      <th>writing score</th>\n",
       "    </tr>\n",
       "  </thead>\n",
       "  <tbody>\n",
       "    <tr>\n",
       "      <th>423</th>\n",
       "      <td>female</td>\n",
       "      <td>group A</td>\n",
       "      <td>some high school</td>\n",
       "      <td>standard</td>\n",
       "      <td>completed</td>\n",
       "      <td>59</td>\n",
       "      <td>85</td>\n",
       "      <td>80</td>\n",
       "    </tr>\n",
       "    <tr>\n",
       "      <th>473</th>\n",
       "      <td>female</td>\n",
       "      <td>group D</td>\n",
       "      <td>some high school</td>\n",
       "      <td>standard</td>\n",
       "      <td>none</td>\n",
       "      <td>59</td>\n",
       "      <td>67</td>\n",
       "      <td>61</td>\n",
       "    </tr>\n",
       "    <tr>\n",
       "      <th>587</th>\n",
       "      <td>female</td>\n",
       "      <td>group C</td>\n",
       "      <td>bachelor's degree</td>\n",
       "      <td>free/reduced</td>\n",
       "      <td>none</td>\n",
       "      <td>44</td>\n",
       "      <td>63</td>\n",
       "      <td>62</td>\n",
       "    </tr>\n",
       "    <tr>\n",
       "      <th>215</th>\n",
       "      <td>male</td>\n",
       "      <td>group B</td>\n",
       "      <td>some high school</td>\n",
       "      <td>standard</td>\n",
       "      <td>completed</td>\n",
       "      <td>84</td>\n",
       "      <td>83</td>\n",
       "      <td>75</td>\n",
       "    </tr>\n",
       "    <tr>\n",
       "      <th>744</th>\n",
       "      <td>male</td>\n",
       "      <td>group B</td>\n",
       "      <td>some college</td>\n",
       "      <td>free/reduced</td>\n",
       "      <td>none</td>\n",
       "      <td>55</td>\n",
       "      <td>55</td>\n",
       "      <td>47</td>\n",
       "    </tr>\n",
       "  </tbody>\n",
       "</table>\n",
       "</div>"
      ],
      "text/plain": [
       "     gender race/ethnicity parental level of education         lunch  \\\n",
       "423  female        group A            some high school      standard   \n",
       "473  female        group D            some high school      standard   \n",
       "587  female        group C           bachelor's degree  free/reduced   \n",
       "215    male        group B            some high school      standard   \n",
       "744    male        group B                some college  free/reduced   \n",
       "\n",
       "    test preparation course  math score  reading score  writing score  \n",
       "423               completed          59             85             80  \n",
       "473                    none          59             67             61  \n",
       "587                    none          44             63             62  \n",
       "215               completed          84             83             75  \n",
       "744                    none          55             55             47  "
      ]
     },
     "execution_count": 2,
     "metadata": {},
     "output_type": "execute_result"
    }
   ],
   "source": [
    "# reading the csv file\n",
    "df = pd.read_csv(\"StudentsPerformance.csv\")\n",
    "df.sample(5)"
   ]
  },
  {
   "cell_type": "markdown",
   "metadata": {},
   "source": [
    "# checking the statistical summary of the dataset and Cheching for null and unique values"
   ]
  },
  {
   "cell_type": "code",
   "execution_count": 3,
   "metadata": {
    "colab": {
     "base_uri": "https://localhost:8080/",
     "height": 300
    },
    "id": "1lj5VXysk6Qd",
    "outputId": "d0092dad-53d7-40a4-9110-7621f5ace3b2"
   },
   "outputs": [
    {
     "data": {
      "text/html": [
       "<div>\n",
       "<style scoped>\n",
       "    .dataframe tbody tr th:only-of-type {\n",
       "        vertical-align: middle;\n",
       "    }\n",
       "\n",
       "    .dataframe tbody tr th {\n",
       "        vertical-align: top;\n",
       "    }\n",
       "\n",
       "    .dataframe thead th {\n",
       "        text-align: right;\n",
       "    }\n",
       "</style>\n",
       "<table border=\"1\" class=\"dataframe\">\n",
       "  <thead>\n",
       "    <tr style=\"text-align: right;\">\n",
       "      <th></th>\n",
       "      <th>math score</th>\n",
       "      <th>reading score</th>\n",
       "      <th>writing score</th>\n",
       "    </tr>\n",
       "  </thead>\n",
       "  <tbody>\n",
       "    <tr>\n",
       "      <th>count</th>\n",
       "      <td>1000.00000</td>\n",
       "      <td>1000.000000</td>\n",
       "      <td>1000.000000</td>\n",
       "    </tr>\n",
       "    <tr>\n",
       "      <th>mean</th>\n",
       "      <td>66.08900</td>\n",
       "      <td>69.169000</td>\n",
       "      <td>68.054000</td>\n",
       "    </tr>\n",
       "    <tr>\n",
       "      <th>std</th>\n",
       "      <td>15.16308</td>\n",
       "      <td>14.600192</td>\n",
       "      <td>15.195657</td>\n",
       "    </tr>\n",
       "    <tr>\n",
       "      <th>min</th>\n",
       "      <td>0.00000</td>\n",
       "      <td>17.000000</td>\n",
       "      <td>10.000000</td>\n",
       "    </tr>\n",
       "    <tr>\n",
       "      <th>25%</th>\n",
       "      <td>57.00000</td>\n",
       "      <td>59.000000</td>\n",
       "      <td>57.750000</td>\n",
       "    </tr>\n",
       "    <tr>\n",
       "      <th>50%</th>\n",
       "      <td>66.00000</td>\n",
       "      <td>70.000000</td>\n",
       "      <td>69.000000</td>\n",
       "    </tr>\n",
       "    <tr>\n",
       "      <th>75%</th>\n",
       "      <td>77.00000</td>\n",
       "      <td>79.000000</td>\n",
       "      <td>79.000000</td>\n",
       "    </tr>\n",
       "    <tr>\n",
       "      <th>max</th>\n",
       "      <td>100.00000</td>\n",
       "      <td>100.000000</td>\n",
       "      <td>100.000000</td>\n",
       "    </tr>\n",
       "  </tbody>\n",
       "</table>\n",
       "</div>"
      ],
      "text/plain": [
       "       math score  reading score  writing score\n",
       "count  1000.00000    1000.000000    1000.000000\n",
       "mean     66.08900      69.169000      68.054000\n",
       "std      15.16308      14.600192      15.195657\n",
       "min       0.00000      17.000000      10.000000\n",
       "25%      57.00000      59.000000      57.750000\n",
       "50%      66.00000      70.000000      69.000000\n",
       "75%      77.00000      79.000000      79.000000\n",
       "max     100.00000     100.000000     100.000000"
      ]
     },
     "execution_count": 3,
     "metadata": {},
     "output_type": "execute_result"
    }
   ],
   "source": [
    "df.describe()"
   ]
  },
  {
   "cell_type": "code",
   "execution_count": null,
   "metadata": {
    "colab": {
     "base_uri": "https://localhost:8080/"
    },
    "id": "DHlUDGUJlFLt",
    "outputId": "1c5e6840-f402-4eb1-97f5-44d9a43e9f3f"
   },
   "outputs": [],
   "source": [
    "df.info()"
   ]
  },
  {
   "cell_type": "code",
   "execution_count": null,
   "metadata": {
    "colab": {
     "base_uri": "https://localhost:8080/",
     "height": 335
    },
    "id": "MvgGyE1XlJip",
    "outputId": "f5e0dc68-4f65-4028-9a32-26a45815caf0"
   },
   "outputs": [],
   "source": [
    "df.isnull().sum()"
   ]
  },
  {
   "cell_type": "code",
   "execution_count": null,
   "metadata": {
    "colab": {
     "base_uri": "https://localhost:8080/",
     "height": 335
    },
    "id": "PVYjpr5XoAJQ",
    "outputId": "2084ccde-fbe2-4c60-da2c-84b997294482"
   },
   "outputs": [],
   "source": [
    "df.nunique()"
   ]
  },
  {
   "cell_type": "markdown",
   "metadata": {},
   "source": [
    "# EXPLORATORY DATA ANALYSIS"
   ]
  },
  {
   "cell_type": "code",
   "execution_count": 4,
   "metadata": {
    "colab": {
     "base_uri": "https://localhost:8080/",
     "height": 178
    },
    "id": "WF79ROoWlOUe",
    "outputId": "49222fc2-d61b-402c-ab52-f867065892b4"
   },
   "outputs": [
    {
     "data": {
      "text/plain": [
       "gender\n",
       "female    518\n",
       "male      482\n",
       "Name: count, dtype: int64"
      ]
     },
     "execution_count": 4,
     "metadata": {},
     "output_type": "execute_result"
    }
   ],
   "source": [
    "df[\"gender\"].value_counts()"
   ]
  },
  {
   "cell_type": "code",
   "execution_count": 5,
   "metadata": {
    "colab": {
     "base_uri": "https://localhost:8080/",
     "height": 272
    },
    "id": "zrrqnugblWSb",
    "outputId": "64fac19f-d896-4b87-ddd2-b1e9a21f1d9a"
   },
   "outputs": [
    {
     "data": {
      "text/plain": [
       "race/ethnicity\n",
       "group C    319\n",
       "group D    262\n",
       "group B    190\n",
       "group E    140\n",
       "group A     89\n",
       "Name: count, dtype: int64"
      ]
     },
     "execution_count": 5,
     "metadata": {},
     "output_type": "execute_result"
    }
   ],
   "source": [
    "df[\"race/ethnicity\"].value_counts()"
   ]
  },
  {
   "cell_type": "code",
   "execution_count": null,
   "metadata": {
    "colab": {
     "base_uri": "https://localhost:8080/",
     "height": 178
    },
    "id": "9R4o-LwqlpMP",
    "outputId": "58c39428-c7b0-4b06-962d-0f0e891dee9d"
   },
   "outputs": [],
   "source": [
    "df[\"lunch\"].value_counts()"
   ]
  },
  {
   "cell_type": "code",
   "execution_count": null,
   "metadata": {
    "colab": {
     "base_uri": "https://localhost:8080/",
     "height": 178
    },
    "id": "pOhjZOSUl5JX",
    "outputId": "cc747738-686a-4c08-8b8a-aa7cc82833bd"
   },
   "outputs": [],
   "source": [
    "df[\"test preparation course\"].value_counts()"
   ]
  },
  {
   "cell_type": "code",
   "execution_count": null,
   "metadata": {
    "colab": {
     "base_uri": "https://localhost:8080/",
     "height": 303
    },
    "id": "cmpwpN-hmCb0",
    "outputId": "0966a9b9-cbc4-4b84-b5f7-7099f24c928a"
   },
   "outputs": [],
   "source": [
    "df[\"parental level of education\"].value_counts()"
   ]
  },
  {
   "cell_type": "code",
   "execution_count": null,
   "metadata": {
    "colab": {
     "base_uri": "https://localhost:8080/",
     "height": 429
    },
    "id": "vWdscuhBnHh0",
    "outputId": "94ca6742-906c-45b6-a491-3abb300ead45"
   },
   "outputs": [],
   "source": [
    "df.groupby(\"race/ethnicity\")[\"gender\"].value_counts()"
   ]
  },
  {
   "cell_type": "code",
   "execution_count": null,
   "metadata": {
    "colab": {
     "base_uri": "https://localhost:8080/",
     "height": 241
    },
    "id": "P402b6VjoNe9",
    "outputId": "80dd8910-abb6-4179-b164-0be1c4d22116"
   },
   "outputs": [],
   "source": [
    "df.head()"
   ]
  },
  {
   "cell_type": "code",
   "execution_count": null,
   "metadata": {
    "colab": {
     "base_uri": "https://localhost:8080/",
     "height": 241
    },
    "id": "o7xZDykenyIJ",
    "outputId": "b930ce6f-78b0-43c3-e401-1c7148d8d356"
   },
   "outputs": [],
   "source": [
    "df.groupby(\"lunch\")[\"gender\"].value_counts()"
   ]
  },
  {
   "cell_type": "code",
   "execution_count": 6,
   "metadata": {
    "colab": {
     "base_uri": "https://localhost:8080/",
     "height": 1000
    },
    "id": "YuqO8W5Sodqq",
    "outputId": "1ce6178e-cf0d-4b72-edd7-ea2ef724077b"
   },
   "outputs": [
    {
     "data": {
      "text/plain": [
       "race/ethnicity  parental level of education\n",
       "group A         some high school               24\n",
       "                some college                   18\n",
       "                high school                    18\n",
       "                associate's degree             14\n",
       "                bachelor's degree              12\n",
       "                master's degree                 3\n",
       "group B         high school                    48\n",
       "                associate's degree             41\n",
       "                some high school               38\n",
       "                some college                   37\n",
       "                bachelor's degree              20\n",
       "                master's degree                 6\n",
       "group C         associate's degree             78\n",
       "                some college                   69\n",
       "                high school                    64\n",
       "                some high school               49\n",
       "                bachelor's degree              40\n",
       "                master's degree                19\n",
       "group D         some college                   67\n",
       "                associate's degree             50\n",
       "                some high school               50\n",
       "                high school                    44\n",
       "                bachelor's degree              28\n",
       "                master's degree                23\n",
       "group E         associate's degree             39\n",
       "                some college                   35\n",
       "                high school                    22\n",
       "                bachelor's degree              18\n",
       "                some high school               18\n",
       "                master's degree                 8\n",
       "Name: count, dtype: int64"
      ]
     },
     "execution_count": 6,
     "metadata": {},
     "output_type": "execute_result"
    }
   ],
   "source": [
    "df.groupby(\"race/ethnicity\")[\"parental level of education\"].value_counts()"
   ]
  },
  {
   "cell_type": "code",
   "execution_count": null,
   "metadata": {
    "colab": {
     "base_uri": "https://localhost:8080/",
     "height": 241
    },
    "id": "q9j3OAZqpGVM",
    "outputId": "061d6064-8a8a-45cd-d88b-7728dd677a2e"
   },
   "outputs": [],
   "source": [
    "df.groupby(\"gender\")[\"test preparation course\"].value_counts()"
   ]
  },
  {
   "cell_type": "code",
   "execution_count": null,
   "metadata": {
    "colab": {
     "base_uri": "https://localhost:8080/",
     "height": 335
    },
    "id": "FHlFPlqqykYy",
    "outputId": "445d9755-6263-42d1-b2d1-31215c197d04"
   },
   "outputs": [],
   "source": [
    "df[\"math score\"].describe()"
   ]
  },
  {
   "cell_type": "code",
   "execution_count": null,
   "metadata": {
    "colab": {
     "base_uri": "https://localhost:8080/",
     "height": 272
    },
    "id": "b090GYxmpiUq",
    "outputId": "69935985-76fc-41fb-c5af-d2d622500496"
   },
   "outputs": [],
   "source": [
    "df[\"math score\"].value_counts().head()"
   ]
  },
  {
   "cell_type": "code",
   "execution_count": null,
   "metadata": {
    "colab": {
     "base_uri": "https://localhost:8080/"
    },
    "id": "VINdya1ImJ0v",
    "outputId": "5fbcd79c-c5d7-4904-b7a9-f636fb302ad1"
   },
   "outputs": [],
   "source": [
    "df[\"math score\"].max()"
   ]
  },
  {
   "cell_type": "code",
   "execution_count": null,
   "metadata": {
    "colab": {
     "base_uri": "https://localhost:8080/"
    },
    "id": "Y9KfyN-5mUoE",
    "outputId": "b431b32d-a760-483a-ccec-3cc3765f5a1e"
   },
   "outputs": [],
   "source": [
    "df[\"math score\"].min()"
   ]
  },
  {
   "cell_type": "code",
   "execution_count": null,
   "metadata": {
    "colab": {
     "base_uri": "https://localhost:8080/"
    },
    "id": "mrDiCQOsqLCS",
    "outputId": "fade859e-dfe4-44ad-b823-721cc6dbc602"
   },
   "outputs": [],
   "source": [
    "df[df[\"math score\"] == 100] [\"math score\"].count()"
   ]
  },
  {
   "cell_type": "code",
   "execution_count": null,
   "metadata": {
    "colab": {
     "base_uri": "https://localhost:8080/",
     "height": 303
    },
    "id": "Jbk_l6g2qXjO",
    "outputId": "f1aa2687-5992-40ef-df42-a4c0c49d6dd2"
   },
   "outputs": [],
   "source": [
    "df[df[\"math score\"] == 100]"
   ]
  },
  {
   "cell_type": "code",
   "execution_count": null,
   "metadata": {
    "colab": {
     "base_uri": "https://localhost:8080/"
    },
    "id": "xs-IeeiPyR0D",
    "outputId": "deea6c22-f0f9-4491-f135-d6dc75268a8f"
   },
   "outputs": [],
   "source": [
    "df[df[\"math score\"] == 0][\"math score\"].count()"
   ]
  },
  {
   "cell_type": "code",
   "execution_count": null,
   "metadata": {
    "colab": {
     "base_uri": "https://localhost:8080/"
    },
    "id": "JGuoETRpmZ1J",
    "outputId": "2b830d6b-d04f-422f-cc1d-6b071e8786ef"
   },
   "outputs": [],
   "source": [
    "df[df[\"math score\"] < 50] [\"math score\"].count()"
   ]
  },
  {
   "cell_type": "code",
   "execution_count": null,
   "metadata": {
    "colab": {
     "base_uri": "https://localhost:8080/",
     "height": 178
    },
    "id": "q2dPOvJerLbV",
    "outputId": "532aea04-7cde-4da1-a666-5b80a433b031"
   },
   "outputs": [],
   "source": [
    "math_score_less_than_50 = df[df[\"math score\"] < 50]\n",
    "math_score_less_than_50.groupby(\"gender\")[\"math score\"].count().sort_values(ascending=False)"
   ]
  },
  {
   "cell_type": "code",
   "execution_count": null,
   "metadata": {
    "colab": {
     "base_uri": "https://localhost:8080/",
     "height": 272
    },
    "id": "YWmLQxMXrxUb",
    "outputId": "7c0bb61a-6b8e-4b00-c6d8-ae454939edfd"
   },
   "outputs": [],
   "source": [
    "math_score_less_than_50.groupby(\"race/ethnicity\")[\"math score\"].count().sort_values(ascending=False)"
   ]
  },
  {
   "cell_type": "code",
   "execution_count": null,
   "metadata": {
    "colab": {
     "base_uri": "https://localhost:8080/",
     "height": 303
    },
    "id": "VyY72lCc0X0g",
    "outputId": "e0c471ee-3c55-4d62-e2e9-dde04a9f9f49"
   },
   "outputs": [],
   "source": [
    "math_score_less_than_50.groupby(\"parental level of education\")[\"math score\"].count().sort_values(ascending=False)"
   ]
  },
  {
   "cell_type": "code",
   "execution_count": null,
   "metadata": {
    "colab": {
     "base_uri": "https://localhost:8080/"
    },
    "id": "JhsRUm9amxkI",
    "outputId": "385a979c-2585-493d-ef69-860eb7cbfe30"
   },
   "outputs": [],
   "source": [
    "df[df[\"math score\"] > 50] [\"math score\"].count()"
   ]
  },
  {
   "cell_type": "code",
   "execution_count": null,
   "metadata": {
    "colab": {
     "base_uri": "https://localhost:8080/",
     "height": 178
    },
    "id": "BR0ZFyOwsakh",
    "outputId": "c301f4bc-d285-4b7a-d752-352edacbac46"
   },
   "outputs": [],
   "source": [
    "math_score_greater_than_50 = df[df[\"math score\"] > 50]\n",
    "math_score_greater_than_50.groupby(\"gender\")[\"math score\"].count().sort_values(ascending=False)"
   ]
  },
  {
   "cell_type": "code",
   "execution_count": null,
   "metadata": {
    "colab": {
     "base_uri": "https://localhost:8080/",
     "height": 272
    },
    "id": "EmUVC8mXsjVi",
    "outputId": "728a960c-ebdf-4b98-f749-b20e9ad8d274"
   },
   "outputs": [],
   "source": [
    "math_score_greater_than_50.groupby(\"race/ethnicity\")[\"math score\"].count().sort_values(ascending=False)"
   ]
  },
  {
   "cell_type": "code",
   "execution_count": null,
   "metadata": {
    "colab": {
     "base_uri": "https://localhost:8080/",
     "height": 303
    },
    "id": "in59Oznm0TCT",
    "outputId": "0846968d-9a68-456c-af9f-d373a0a94f86"
   },
   "outputs": [],
   "source": [
    "math_score_greater_than_50.groupby(\"parental level of education\")[\"math score\"].count().sort_values(ascending=False)"
   ]
  },
  {
   "cell_type": "code",
   "execution_count": null,
   "metadata": {
    "colab": {
     "base_uri": "https://localhost:8080/",
     "height": 335
    },
    "id": "omxt2BE8ywCG",
    "outputId": "bb010052-1bc8-4772-dcb0-7f2a8c64b0d7"
   },
   "outputs": [],
   "source": [
    "df[\"reading score\"].describe()"
   ]
  },
  {
   "cell_type": "code",
   "execution_count": null,
   "metadata": {
    "colab": {
     "base_uri": "https://localhost:8080/",
     "height": 272
    },
    "id": "n_s4RCyoqkKJ",
    "outputId": "85c3e6c6-5d20-4882-8b78-02439ead7d00"
   },
   "outputs": [],
   "source": [
    "df[\"reading score\"].value_counts().head()"
   ]
  },
  {
   "cell_type": "code",
   "execution_count": null,
   "metadata": {
    "colab": {
     "base_uri": "https://localhost:8080/"
    },
    "id": "TP_kqDOetKfo",
    "outputId": "edc0f655-189c-48fa-a0a2-8c79ec3796fb"
   },
   "outputs": [],
   "source": [
    "df[\"reading score\"].max()"
   ]
  },
  {
   "cell_type": "code",
   "execution_count": null,
   "metadata": {
    "colab": {
     "base_uri": "https://localhost:8080/"
    },
    "id": "FvvseTIGtYlS",
    "outputId": "999e32f2-833c-40c3-ae5f-fad4e3cac1f0"
   },
   "outputs": [],
   "source": [
    "df[\"reading score\"].min()"
   ]
  },
  {
   "cell_type": "code",
   "execution_count": null,
   "metadata": {
    "colab": {
     "base_uri": "https://localhost:8080/"
    },
    "id": "IFUZjuLyvUZK",
    "outputId": "bfe46c0d-947f-4078-be48-03942c3c0d77"
   },
   "outputs": [],
   "source": [
    "df[df[\"reading score\"] == 100] [\"reading score\"].count()"
   ]
  },
  {
   "cell_type": "code",
   "execution_count": null,
   "metadata": {
    "colab": {
     "base_uri": "https://localhost:8080/",
     "height": 617
    },
    "id": "qBdKO_F3xnal",
    "outputId": "3c9a5a85-c4f2-4014-fca5-b25d711b59a9"
   },
   "outputs": [],
   "source": [
    "df[df[\"reading score\"] == 100]"
   ]
  },
  {
   "cell_type": "code",
   "execution_count": null,
   "metadata": {
    "colab": {
     "base_uri": "https://localhost:8080/"
    },
    "id": "TsiPV8exxrVk",
    "outputId": "27122165-0c3e-4e68-eaf7-c5b9564f8226"
   },
   "outputs": [],
   "source": [
    "df[df[\"reading score\"] == 0] [\"reading score\"].count()"
   ]
  },
  {
   "cell_type": "code",
   "execution_count": null,
   "metadata": {
    "colab": {
     "base_uri": "https://localhost:8080/"
    },
    "id": "lEc84wGttZ0t",
    "outputId": "75ae25a2-7c47-4679-def1-ccf8c0ffacca"
   },
   "outputs": [],
   "source": [
    "df[df[\"reading score\"] < 50] [\"reading score\"].count()"
   ]
  },
  {
   "cell_type": "code",
   "execution_count": null,
   "metadata": {
    "colab": {
     "base_uri": "https://localhost:8080/",
     "height": 458
    },
    "id": "jELvNwZJtqMU",
    "outputId": "a1cc01da-9bdf-41eb-b14f-2e099e8faa7f"
   },
   "outputs": [],
   "source": [
    "df[df[\"reading score\"] < 50]"
   ]
  },
  {
   "cell_type": "code",
   "execution_count": null,
   "metadata": {
    "colab": {
     "base_uri": "https://localhost:8080/",
     "height": 178
    },
    "id": "MTAhy1b3tthG",
    "outputId": "9dcc385c-14a7-4007-dd9f-5e54e1d4d0d0"
   },
   "outputs": [],
   "source": [
    "reading_score_less_than_50 = df[df[\"reading score\"] < 50]\n",
    "reading_score_less_than_50.groupby(\"gender\")[\"reading score\"].count().sort_values(ascending = False)"
   ]
  },
  {
   "cell_type": "code",
   "execution_count": null,
   "metadata": {
    "colab": {
     "base_uri": "https://localhost:8080/",
     "height": 272
    },
    "id": "NJ6NSfMEuIND",
    "outputId": "dcb7727a-4bae-4306-cbbd-ad4a521746d4"
   },
   "outputs": [],
   "source": [
    "reading_score_less_than_50.groupby(\"race/ethnicity\")[\"reading score\"].count().sort_values(ascending = False)"
   ]
  },
  {
   "cell_type": "code",
   "execution_count": null,
   "metadata": {
    "colab": {
     "base_uri": "https://localhost:8080/",
     "height": 303
    },
    "id": "X49vdePLzS2g",
    "outputId": "782e4897-d38d-4160-f44d-80b449188560"
   },
   "outputs": [],
   "source": [
    "reading_score_less_than_50.groupby(\"parental level of education\")[\"reading score\"].count().sort_values(ascending = False)"
   ]
  },
  {
   "cell_type": "code",
   "execution_count": null,
   "metadata": {
    "colab": {
     "base_uri": "https://localhost:8080/"
    },
    "id": "6KmRXhk3uWRN",
    "outputId": "7670423a-f99f-4773-9fee-50a853619394"
   },
   "outputs": [],
   "source": [
    "df[df[\"reading score\"] > 50] [\"reading score\"].count()"
   ]
  },
  {
   "cell_type": "code",
   "execution_count": null,
   "metadata": {
    "colab": {
     "base_uri": "https://localhost:8080/",
     "height": 458
    },
    "id": "SAZy9SPNudjN",
    "outputId": "9626841b-35d2-4f71-a637-cc3a5029d2c3"
   },
   "outputs": [],
   "source": [
    "df[df[\"reading score\"] > 50]"
   ]
  },
  {
   "cell_type": "code",
   "execution_count": null,
   "metadata": {
    "colab": {
     "base_uri": "https://localhost:8080/",
     "height": 178
    },
    "id": "VhHNSd-ouhYT",
    "outputId": "5016bb6c-2cb9-42f6-ff5a-31039824fa36"
   },
   "outputs": [],
   "source": [
    "reading_score_greater_than_50 = df[df[\"reading score\"] > 50]\n",
    "reading_score_greater_than_50.groupby(\"gender\")[\"reading score\"].count().sort_values(ascending = False)"
   ]
  },
  {
   "cell_type": "code",
   "execution_count": null,
   "metadata": {
    "colab": {
     "base_uri": "https://localhost:8080/",
     "height": 272
    },
    "id": "hssVtse2vCV0",
    "outputId": "ab008315-e126-46a9-e3b6-ffe679d3e8b3"
   },
   "outputs": [],
   "source": [
    "reading_score_greater_than_50.groupby(\"race/ethnicity\")[\"reading score\"].count().sort_values(ascending = False)"
   ]
  },
  {
   "cell_type": "code",
   "execution_count": null,
   "metadata": {
    "colab": {
     "base_uri": "https://localhost:8080/",
     "height": 303
    },
    "id": "8hXXUrgDzBkU",
    "outputId": "c667d3c5-1751-4cad-b7e7-94965db7c911"
   },
   "outputs": [],
   "source": [
    "reading_score_greater_than_50.groupby(\"parental level of education\")[\"reading score\"].count().sort_values(ascending = False)"
   ]
  },
  {
   "cell_type": "code",
   "execution_count": null,
   "metadata": {
    "colab": {
     "base_uri": "https://localhost:8080/",
     "height": 335
    },
    "id": "SVvvkFOOy0In",
    "outputId": "c5b7841c-bf3a-4256-8a44-c3fcc85e6c1c"
   },
   "outputs": [],
   "source": [
    "df[\"writing score\"].describe()"
   ]
  },
  {
   "cell_type": "code",
   "execution_count": null,
   "metadata": {
    "colab": {
     "base_uri": "https://localhost:8080/",
     "height": 272
    },
    "id": "Bk2DS3zIvG2i",
    "outputId": "bc8ca407-391a-45d0-c167-b779c08fb9a4"
   },
   "outputs": [],
   "source": [
    "df[\"writing score\"].value_counts().head()"
   ]
  },
  {
   "cell_type": "code",
   "execution_count": null,
   "metadata": {
    "colab": {
     "base_uri": "https://localhost:8080/"
    },
    "id": "IsQdMpKavKts",
    "outputId": "edfea8cc-4316-4f3f-9225-314d410e57d5"
   },
   "outputs": [],
   "source": [
    "df[\"writing score\"].max()"
   ]
  },
  {
   "cell_type": "code",
   "execution_count": null,
   "metadata": {
    "colab": {
     "base_uri": "https://localhost:8080/"
    },
    "id": "xGLD79nEvMkP",
    "outputId": "8baa8618-f835-427b-d94e-2bf3fb3e52f1"
   },
   "outputs": [],
   "source": [
    "df[\"writing score\"].min()"
   ]
  },
  {
   "cell_type": "code",
   "execution_count": null,
   "metadata": {
    "colab": {
     "base_uri": "https://localhost:8080/"
    },
    "id": "Ytzv_iwEvPXa",
    "outputId": "521989fb-dacc-4aab-9a16-9a4513c69a16"
   },
   "outputs": [],
   "source": [
    "df[df[\"writing score\"] == 100] [\"writing score\"].count()"
   ]
  },
  {
   "cell_type": "code",
   "execution_count": null,
   "metadata": {
    "colab": {
     "base_uri": "https://localhost:8080/",
     "height": 523
    },
    "id": "YSXvuiKuxJpb",
    "outputId": "f3fa60a2-59c3-442f-9fde-96e0482497e4"
   },
   "outputs": [],
   "source": [
    "df[df[\"writing score\"] == 100]"
   ]
  },
  {
   "cell_type": "code",
   "execution_count": null,
   "metadata": {
    "colab": {
     "base_uri": "https://localhost:8080/"
    },
    "id": "E8R251hxxX18",
    "outputId": "b3b05419-1c45-48d3-b252-c011c0f1cd5e"
   },
   "outputs": [],
   "source": [
    "df[df[\"writing score\"] == 0] [\"writing score\"].count()"
   ]
  },
  {
   "cell_type": "code",
   "execution_count": null,
   "metadata": {
    "colab": {
     "base_uri": "https://localhost:8080/"
    },
    "id": "KDTaMPuzvyUB",
    "outputId": "c418a5f3-ae39-4cac-f179-e35113642e2e"
   },
   "outputs": [],
   "source": [
    "df[df[\"writing score\"] < 50] [\"writing score\"].count()"
   ]
  },
  {
   "cell_type": "code",
   "execution_count": null,
   "metadata": {
    "colab": {
     "base_uri": "https://localhost:8080/",
     "height": 458
    },
    "id": "XD5NSflmv7eJ",
    "outputId": "308c2aa0-94f5-40e6-d9b8-4b21a6955200"
   },
   "outputs": [],
   "source": [
    "df[df[\"writing score\"] < 50]"
   ]
  },
  {
   "cell_type": "code",
   "execution_count": null,
   "metadata": {
    "colab": {
     "base_uri": "https://localhost:8080/",
     "height": 178
    },
    "id": "0JNdToPawAf4",
    "outputId": "fac47c06-e8b1-46d0-8468-c72764427110"
   },
   "outputs": [],
   "source": [
    "writing_score_less_than_50 = df[df[\"writing score\"] < 50]\n",
    "writing_score_less_than_50.groupby(\"gender\")[\"writing score\"].count().sort_values(ascending = False)"
   ]
  },
  {
   "cell_type": "code",
   "execution_count": null,
   "metadata": {
    "colab": {
     "base_uri": "https://localhost:8080/",
     "height": 272
    },
    "id": "zUzd8WbSwAjW",
    "outputId": "e53f8c95-8d53-4e78-99db-684563f162df"
   },
   "outputs": [],
   "source": [
    "writing_score_less_than_50.groupby(\"race/ethnicity\")[\"writing score\"].count().sort_values(ascending = False)"
   ]
  },
  {
   "cell_type": "code",
   "execution_count": null,
   "metadata": {
    "colab": {
     "base_uri": "https://localhost:8080/",
     "height": 303
    },
    "id": "Aw0CoSoczivL",
    "outputId": "719eb525-1c93-445c-8caa-a2d081d52ad2"
   },
   "outputs": [],
   "source": [
    "writing_score_less_than_50.groupby(\"parental level of education\")[\"writing score\"].count().sort_values(ascending = False)"
   ]
  },
  {
   "cell_type": "code",
   "execution_count": null,
   "metadata": {
    "colab": {
     "base_uri": "https://localhost:8080/"
    },
    "id": "pZx-VAOqv4k8",
    "outputId": "d3afc9ec-4055-41cd-cf70-909e46a3af7d"
   },
   "outputs": [],
   "source": [
    "df[df[\"writing score\"] > 50] [\"writing score\"].count()"
   ]
  },
  {
   "cell_type": "code",
   "execution_count": null,
   "metadata": {
    "colab": {
     "base_uri": "https://localhost:8080/",
     "height": 458
    },
    "id": "V26Qj_wOwphq",
    "outputId": "4fa15c3e-d26a-47a9-9ead-271189fe7487"
   },
   "outputs": [],
   "source": [
    "df[df[\"writing score\"] > 50]"
   ]
  },
  {
   "cell_type": "code",
   "execution_count": null,
   "metadata": {
    "colab": {
     "base_uri": "https://localhost:8080/",
     "height": 178
    },
    "id": "gmlcj4wPwprn",
    "outputId": "b847346d-e068-4e72-ade5-22a813ce0cf0"
   },
   "outputs": [],
   "source": [
    "writing_score_greater_than_50 = df[df[\"writing score\"] > 50]\n",
    "writing_score_greater_than_50.groupby(\"gender\")[\"writing score\"].count().sort_values(ascending = False)"
   ]
  },
  {
   "cell_type": "code",
   "execution_count": null,
   "metadata": {
    "colab": {
     "base_uri": "https://localhost:8080/",
     "height": 272
    },
    "id": "kAJZep0rwqfv",
    "outputId": "91a04807-48fc-4081-d462-a2e2e56c6e39"
   },
   "outputs": [],
   "source": [
    "writing_score_greater_than_50.groupby(\"race/ethnicity\")[\"writing score\"].count().sort_values(ascending = False)"
   ]
  },
  {
   "cell_type": "code",
   "execution_count": null,
   "metadata": {
    "colab": {
     "base_uri": "https://localhost:8080/",
     "height": 303
    },
    "id": "rAtKHhhoz3FO",
    "outputId": "f92a42eb-fab9-43c4-dd75-d669d4d874a7"
   },
   "outputs": [],
   "source": [
    "writing_score_greater_than_50.groupby(\"parental level of education\")[\"writing score\"].count().sort_values(ascending = False)"
   ]
  },
  {
   "cell_type": "code",
   "execution_count": null,
   "metadata": {
    "id": "Hv15odtow9ld"
   },
   "outputs": [],
   "source": []
  }
 ],
 "metadata": {
  "colab": {
   "provenance": []
  },
  "kernelspec": {
   "display_name": "Python 3",
   "language": "python",
   "name": "python3"
  },
  "language_info": {
   "codemirror_mode": {
    "name": "ipython",
    "version": 3
   },
   "file_extension": ".py",
   "mimetype": "text/x-python",
   "name": "python",
   "nbconvert_exporter": "python",
   "pygments_lexer": "ipython3",
   "version": "3.11.5"
  }
 },
 "nbformat": 4,
 "nbformat_minor": 4
}
